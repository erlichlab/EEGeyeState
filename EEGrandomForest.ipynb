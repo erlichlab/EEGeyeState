{
 "cells": [
  {
   "cell_type": "code",
   "execution_count": 12,
   "metadata": {
    "collapsed": false
   },
   "outputs": [
    {
     "name": "stdout",
     "output_type": "stream",
     "text": [
      "The autoreload extension is already loaded. To reload it, use:\n",
      "  %reload_ext autoreload\n"
     ]
    }
   ],
   "source": [
    "import numpy as np\n",
    "import pickle\n",
    "import matplotlib.pyplot as plt\n",
    "\n",
    "from sklearn.ensemble import RandomForestClassifier\n",
    "from sklearn.calibration import CalibratedClassifierCV\n",
    "\n",
    "%matplotlib inline\n",
    "plt.rcParams['figure.figsize'] = (8.0, 6.0) # set default size of plots\n",
    "plt.rcParams['image.interpolation'] = 'nearest'\n",
    "plt.rcParams['image.cmap'] = 'gray'\n",
    "\n",
    "# auto-reloading external modules\n",
    "# see http://stackoverflow.com/questions/1907993/autoreload-of-modules-in-ipython\n",
    "%load_ext autoreload\n",
    "%autoreload 2"
   ]
  },
  {
   "cell_type": "code",
   "execution_count": 13,
   "metadata": {
    "collapsed": true
   },
   "outputs": [],
   "source": [
    "raw_data = np.loadtxt(open(\"EEG.csv\", \"rb\"), delimiter=\",\", skiprows=0)\n",
    "X_raw = raw_data[:,:-1]\n",
    "\n",
    "# Data cleaning on X\n",
    "upper_threshold = 4600\n",
    "lower_threshold = 4000\n",
    "too_big = X_raw>upper_threshold\n",
    "too_small = X_raw<lower_threshold\n",
    "X_cleaned = np.copy(X_raw)\n",
    "X_cleaned[too_big] = upper_threshold\n",
    "X_cleaned[too_small] = lower_threshold\n",
    "\n",
    "X = (X_cleaned - np.mean(X_cleaned)) / np.std(X_cleaned)\n",
    "y = raw_data[:,-1]"
   ]
  },
  {
   "cell_type": "code",
   "execution_count": 14,
   "metadata": {
    "collapsed": true
   },
   "outputs": [],
   "source": [
    "num_train = 10000\n",
    "num_val = 2000\n",
    "X_train = X[:num_train,:]\n",
    "y_train = y[:num_train]\n",
    "X_val = X[num_train:num_train+num_val,:]\n",
    "y_val = y[num_train:num_train+num_val]\n",
    "X_test = X[num_train+num_val:,:]\n",
    "y_test = y[num_train+num_val:]"
   ]
  },
  {
   "cell_type": "code",
   "execution_count": 31,
   "metadata": {
    "collapsed": false
   },
   "outputs": [
    {
     "name": "stdout",
     "output_type": "stream",
     "text": [
      "0.4405\n",
      "0.459\n",
      "0.4435\n",
      "0.4535\n",
      "0.4465\n",
      "0.459\n",
      "0.4625\n",
      "0.447\n",
      "0.4455\n",
      "0.448\n",
      "0.4515\n",
      "0.4515\n",
      "0.4495\n",
      "0.443\n",
      "0.4415\n",
      "0.4325\n",
      "0.451\n",
      "0.4555\n",
      "0.457\n",
      "0.4475\n",
      "0.4535\n",
      "0.444\n",
      "0.444\n",
      "0.4445\n",
      "0.4495\n",
      "0.4505\n",
      "0.4395\n",
      "0.456\n",
      "0.4505\n"
     ]
    }
   ],
   "source": [
    "for i in range(1,30):\n",
    "    clf = RandomForestClassifier(n_estimators=50)\n",
    "    clf.fit(X_train, y_train)\n",
    "    #sig_clf = CalibratedClassifierCV(clf, method=\"sigmoid\", cv=\"prefit\")\n",
    "    #sig_clf.fit(X_val, y_val)\n",
    "    clf_probs = clf.score(X_val,y_val)\n",
    "    print(clf_probs)"
   ]
  },
  {
   "cell_type": "code",
   "execution_count": 32,
   "metadata": {
    "collapsed": false
   },
   "outputs": [
    {
     "data": {
      "text/plain": [
       "0.45050000000000001"
      ]
     },
     "execution_count": 32,
     "metadata": {},
     "output_type": "execute_result"
    }
   ],
   "source": [
    "clf_probs"
   ]
  },
  {
   "cell_type": "code",
   "execution_count": null,
   "metadata": {
    "collapsed": true
   },
   "outputs": [],
   "source": []
  }
 ],
 "metadata": {
  "kernelspec": {
   "display_name": "Python 3",
   "language": "python",
   "name": "python3"
  },
  "language_info": {
   "codemirror_mode": {
    "name": "ipython",
    "version": 3
   },
   "file_extension": ".py",
   "mimetype": "text/x-python",
   "name": "python",
   "nbconvert_exporter": "python",
   "pygments_lexer": "ipython3",
   "version": "3.5.1"
  }
 },
 "nbformat": 4,
 "nbformat_minor": 1
}
